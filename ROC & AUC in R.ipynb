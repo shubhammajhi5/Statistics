{
 "cells": [
  {
   "cell_type": "code",
   "execution_count": 1,
   "id": "80b03318",
   "metadata": {},
   "outputs": [
    {
     "name": "stderr",
     "output_type": "stream",
     "text": [
      "Type 'citation(\"pROC\")' for a citation.\n",
      "\n",
      "\n",
      "Attaching package: 'pROC'\n",
      "\n",
      "\n",
      "The following objects are masked from 'package:stats':\n",
      "\n",
      "    cov, smooth, var\n",
      "\n",
      "\n",
      "randomForest 4.7-1.1\n",
      "\n",
      "Type rfNews() to see new features/changes/bug fixes.\n",
      "\n"
     ]
    }
   ],
   "source": [
    "library(pROC)\n",
    "library(randomForest) "
   ]
  },
  {
   "cell_type": "code",
   "execution_count": 2,
   "id": "8a09e2e2",
   "metadata": {},
   "outputs": [],
   "source": [
    "## Generate weight and obesity datasets.\n",
    "\n",
    "\n",
    "## The main point of using the seed is to be able to reproduce a particular sequence of 'random' numbers\n",
    "set.seed(420) # this will match the results everytime\n",
    "\n",
    "num.samples <- 100\n",
    "\n",
    "## genereate 100 random values from a normal distribution with mean 172 and standard deviation 29, then sort them\n",
    "weight <- sort(rnorm(n=num.samples, mean=172, sd=29))"
   ]
  },
  {
   "cell_type": "code",
   "execution_count": 3,
   "id": "7ff7a063",
   "metadata": {},
   "outputs": [
    {
     "data": {
      "text/html": [
       "<style>\n",
       ".list-inline {list-style: none; margin:0; padding: 0}\n",
       ".list-inline>li {display: inline-block}\n",
       ".list-inline>li:not(:last-child)::after {content: \"\\00b7\"; padding: 0 .5ex}\n",
       "</style>\n",
       "<ol class=list-inline><li>0</li><li>0</li><li>0</li><li>0</li><li>0</li><li>0</li><li>0</li><li>0</li><li>1</li><li>1</li><li>0</li><li>1</li><li>0</li><li>0</li><li>0</li><li>0</li><li>0</li><li>0</li><li>0</li><li>0</li><li>0</li><li>0</li><li>1</li><li>0</li><li>1</li><li>1</li><li>0</li><li>0</li><li>0</li><li>1</li><li>1</li><li>0</li><li>0</li><li>1</li><li>0</li><li>0</li><li>0</li><li>0</li><li>1</li><li>1</li><li>1</li><li>0</li><li>0</li><li>1</li><li>0</li><li>0</li><li>1</li><li>0</li><li>0</li><li>1</li><li>1</li><li>1</li><li>1</li><li>0</li><li>0</li><li>1</li><li>0</li><li>0</li><li>1</li><li>1</li><li>1</li><li>0</li><li>1</li><li>1</li><li>1</li><li>0</li><li>1</li><li>0</li><li>1</li><li>1</li><li>1</li><li>0</li><li>0</li><li>1</li><li>1</li><li>1</li><li>1</li><li>1</li><li>0</li><li>1</li><li>1</li><li>1</li><li>1</li><li>1</li><li>1</li><li>1</li><li>1</li><li>1</li><li>1</li><li>1</li><li>1</li><li>1</li><li>1</li><li>1</li><li>1</li><li>1</li><li>1</li><li>1</li><li>1</li><li>1</li></ol>\n"
      ],
      "text/latex": [
       "\\begin{enumerate*}\n",
       "\\item 0\n",
       "\\item 0\n",
       "\\item 0\n",
       "\\item 0\n",
       "\\item 0\n",
       "\\item 0\n",
       "\\item 0\n",
       "\\item 0\n",
       "\\item 1\n",
       "\\item 1\n",
       "\\item 0\n",
       "\\item 1\n",
       "\\item 0\n",
       "\\item 0\n",
       "\\item 0\n",
       "\\item 0\n",
       "\\item 0\n",
       "\\item 0\n",
       "\\item 0\n",
       "\\item 0\n",
       "\\item 0\n",
       "\\item 0\n",
       "\\item 1\n",
       "\\item 0\n",
       "\\item 1\n",
       "\\item 1\n",
       "\\item 0\n",
       "\\item 0\n",
       "\\item 0\n",
       "\\item 1\n",
       "\\item 1\n",
       "\\item 0\n",
       "\\item 0\n",
       "\\item 1\n",
       "\\item 0\n",
       "\\item 0\n",
       "\\item 0\n",
       "\\item 0\n",
       "\\item 1\n",
       "\\item 1\n",
       "\\item 1\n",
       "\\item 0\n",
       "\\item 0\n",
       "\\item 1\n",
       "\\item 0\n",
       "\\item 0\n",
       "\\item 1\n",
       "\\item 0\n",
       "\\item 0\n",
       "\\item 1\n",
       "\\item 1\n",
       "\\item 1\n",
       "\\item 1\n",
       "\\item 0\n",
       "\\item 0\n",
       "\\item 1\n",
       "\\item 0\n",
       "\\item 0\n",
       "\\item 1\n",
       "\\item 1\n",
       "\\item 1\n",
       "\\item 0\n",
       "\\item 1\n",
       "\\item 1\n",
       "\\item 1\n",
       "\\item 0\n",
       "\\item 1\n",
       "\\item 0\n",
       "\\item 1\n",
       "\\item 1\n",
       "\\item 1\n",
       "\\item 0\n",
       "\\item 0\n",
       "\\item 1\n",
       "\\item 1\n",
       "\\item 1\n",
       "\\item 1\n",
       "\\item 1\n",
       "\\item 0\n",
       "\\item 1\n",
       "\\item 1\n",
       "\\item 1\n",
       "\\item 1\n",
       "\\item 1\n",
       "\\item 1\n",
       "\\item 1\n",
       "\\item 1\n",
       "\\item 1\n",
       "\\item 1\n",
       "\\item 1\n",
       "\\item 1\n",
       "\\item 1\n",
       "\\item 1\n",
       "\\item 1\n",
       "\\item 1\n",
       "\\item 1\n",
       "\\item 1\n",
       "\\item 1\n",
       "\\item 1\n",
       "\\item 1\n",
       "\\end{enumerate*}\n"
      ],
      "text/markdown": [
       "1. 0\n",
       "2. 0\n",
       "3. 0\n",
       "4. 0\n",
       "5. 0\n",
       "6. 0\n",
       "7. 0\n",
       "8. 0\n",
       "9. 1\n",
       "10. 1\n",
       "11. 0\n",
       "12. 1\n",
       "13. 0\n",
       "14. 0\n",
       "15. 0\n",
       "16. 0\n",
       "17. 0\n",
       "18. 0\n",
       "19. 0\n",
       "20. 0\n",
       "21. 0\n",
       "22. 0\n",
       "23. 1\n",
       "24. 0\n",
       "25. 1\n",
       "26. 1\n",
       "27. 0\n",
       "28. 0\n",
       "29. 0\n",
       "30. 1\n",
       "31. 1\n",
       "32. 0\n",
       "33. 0\n",
       "34. 1\n",
       "35. 0\n",
       "36. 0\n",
       "37. 0\n",
       "38. 0\n",
       "39. 1\n",
       "40. 1\n",
       "41. 1\n",
       "42. 0\n",
       "43. 0\n",
       "44. 1\n",
       "45. 0\n",
       "46. 0\n",
       "47. 1\n",
       "48. 0\n",
       "49. 0\n",
       "50. 1\n",
       "51. 1\n",
       "52. 1\n",
       "53. 1\n",
       "54. 0\n",
       "55. 0\n",
       "56. 1\n",
       "57. 0\n",
       "58. 0\n",
       "59. 1\n",
       "60. 1\n",
       "61. 1\n",
       "62. 0\n",
       "63. 1\n",
       "64. 1\n",
       "65. 1\n",
       "66. 0\n",
       "67. 1\n",
       "68. 0\n",
       "69. 1\n",
       "70. 1\n",
       "71. 1\n",
       "72. 0\n",
       "73. 0\n",
       "74. 1\n",
       "75. 1\n",
       "76. 1\n",
       "77. 1\n",
       "78. 1\n",
       "79. 0\n",
       "80. 1\n",
       "81. 1\n",
       "82. 1\n",
       "83. 1\n",
       "84. 1\n",
       "85. 1\n",
       "86. 1\n",
       "87. 1\n",
       "88. 1\n",
       "89. 1\n",
       "90. 1\n",
       "91. 1\n",
       "92. 1\n",
       "93. 1\n",
       "94. 1\n",
       "95. 1\n",
       "96. 1\n",
       "97. 1\n",
       "98. 1\n",
       "99. 1\n",
       "100. 1\n",
       "\n",
       "\n"
      ],
      "text/plain": [
       "  [1] 0 0 0 0 0 0 0 0 1 1 0 1 0 0 0 0 0 0 0 0 0 0 1 0 1 1 0 0 0 1 1 0 0 1 0 0 0\n",
       " [38] 0 1 1 1 0 0 1 0 0 1 0 0 1 1 1 1 0 0 1 0 0 1 1 1 0 1 1 1 0 1 0 1 1 1 0 0 1\n",
       " [75] 1 1 1 1 0 1 1 1 1 1 1 1 1 1 1 1 1 1 1 1 1 1 1 1 1 1"
      ]
     },
     "metadata": {},
     "output_type": "display_data"
    }
   ],
   "source": [
    "## Now we will decide if a sample is obese or not. \n",
    "\n",
    "## rank(weight) returns 1 for the lightest, 2 for the second lightest, ... and it returns 100 for the heaviest.\n",
    "\n",
    "## So what we do is generate a random number between 0 and 1. \n",
    "\n",
    "## Then we see if that number is less than rank/100.\n",
    "\n",
    "## So, for the lightest sample, rank = 1.\n",
    "## This sample will be classified \"obese\" if we get a random number less than 1/100.\n",
    "\n",
    "## For the second lightest sample, rank = 2, we get another random number between 0 and 1 \n",
    "## and classify this sample \"obese\" if that random number is < 2/100.\n",
    "\n",
    "## We repeat that process for all 100 samples\n",
    "\n",
    "\n",
    "obese <- ifelse(test=(runif(n=num.samples) < (rank(weight)/num.samples)), \n",
    "  yes=1, no=0)\n",
    "\n",
    "obese ## print out the contents of \"obese\" to show us which samples were\n",
    "      ## classified \"obese\" with 1, and which samples were classified\n",
    "      ## \"not obese\" with 0."
   ]
  },
  {
   "cell_type": "code",
   "execution_count": 4,
   "id": "685c2244",
   "metadata": {},
   "outputs": [
    {
     "data": {
      "image/png": "[encoded data removed]",
      "text/plain": [
       "plot without title"
      ]
     },
     "metadata": {
      "image/png": {
       "height": 420,
       "width": 420
      }
     },
     "output_type": "display_data"
    }
   ],
   "source": [
    "## plot the data\n",
    "\n",
    "plot(x=weight, y=obese)"
   ]
  },
  {
   "cell_type": "code",
   "execution_count": 5,
   "id": "33afec73",
   "metadata": {},
   "outputs": [],
   "source": [
    "## fit a logistic regression to the data...\n",
    "\n",
    "glm.fit=glm(obese ~ weight, family=binomial)"
   ]
  },
  {
   "cell_type": "code",
   "execution_count": 6,
   "id": "2e710579",
   "metadata": {},
   "outputs": [
    {
     "ename": "ERROR",
     "evalue": "Error in plot.xy(xy.coords(x, y), type = type, ...): plot.new has not been called yet\n",
     "output_type": "error",
     "traceback": [
      "Error in plot.xy(xy.coords(x, y), type = type, ...): plot.new has not been called yet\nTraceback:\n",
      "1. lines(weight, glm.fit$fitted.values)",
      "2. lines.default(weight, glm.fit$fitted.values)",
      "3. plot.xy(xy.coords(x, y), type = type, ...)"
     ]
    }
   ],
   "source": [
    "lines(weight, glm.fit$fitted.values)"
   ]
  },
  {
   "cell_type": "code",
   "execution_count": 7,
   "id": "abf03f6c",
   "metadata": {},
   "outputs": [
    {
     "name": "stderr",
     "output_type": "stream",
     "text": [
      "Setting levels: control = 0, case = 1\n",
      "\n",
      "Setting direction: controls < cases\n",
      "\n"
     ]
    },
    {
     "data": {
      "text/plain": [
       "\n",
       "Call:\n",
       "roc.default(response = obese, predictor = glm.fit$fitted.values,     plot = TRUE)\n",
       "\n",
       "Data: glm.fit$fitted.values in 45 controls (obese 0) < 55 cases (obese 1).\n",
       "Area under the curve: 0.8291"
      ]
     },
     "metadata": {},
     "output_type": "display_data"
    },
    {
     "data": {
      "image/png": "[encoded data removed]",
      "text/plain": [
       "plot without title"
      ]
     },
     "metadata": {
      "image/png": {
       "height": 420,
       "width": 420
      }
     },
     "output_type": "display_data"
    }
   ],
   "source": [
    "## draw ROC and AUC using pROC\n",
    "\n",
    "## NOTE: If By default, the graphs come out looking terrible\n",
    "\n",
    "## The problem is that ROC graphs should be square, since the x and y axes both go from 0 to 1. \n",
    "\n",
    "## So if extra whitespace is added to pad the sides then we can configure it by:\n",
    "\n",
    "## par(pty = \"s\") ## pty sets the aspect ratio of the plot region. Two options:\n",
    "##                \"s\" - creates a square plotting region\n",
    "##                \"m\" - (the default) creates a maximal plotting region\n",
    "\n",
    "roc(obese, glm.fit$fitted.values, plot=TRUE)"
   ]
  },
  {
   "cell_type": "code",
   "execution_count": 8,
   "id": "3ccdabf9",
   "metadata": {},
   "outputs": [
    {
     "name": "stderr",
     "output_type": "stream",
     "text": [
      "Setting levels: control = 0, case = 1\n",
      "\n",
      "Setting direction: controls < cases\n",
      "\n"
     ]
    },
    {
     "data": {
      "text/plain": [
       "\n",
       "Call:\n",
       "roc.default(response = obese, predictor = glm.fit$fitted.values,     plot = TRUE, legacy.axes = TRUE)\n",
       "\n",
       "Data: glm.fit$fitted.values in 45 controls (obese 0) < 55 cases (obese 1).\n",
       "Area under the curve: 0.8291"
      ]
     },
     "metadata": {},
     "output_type": "display_data"
    },
    {
     "data": {
      "image/png": "[encoded data removed]",
      "text/plain": [
       "plot without title"
      ]
     },
     "metadata": {
      "image/png": {
       "height": 420,
       "width": 420
      }
     },
     "output_type": "display_data"
    }
   ],
   "source": [
    "## NOTE: By default, roc() uses specificity on the x-axis and the values range from 1 to 0.\n",
    "## This makes the graph look like what we would expect, but the x-axis itself might induce a headache. \n",
    "\n",
    "## To use 1-specificity (i.e. the False Positive Rate) on the x-axis, set \"legacy.axes\" to TRUE.\n",
    "\n",
    "roc(obese, glm.fit$fitted.values, plot=TRUE, legacy.axes=TRUE)"
   ]
  },
  {
   "cell_type": "code",
   "execution_count": 9,
   "id": "0fa36de8",
   "metadata": {},
   "outputs": [
    {
     "name": "stderr",
     "output_type": "stream",
     "text": [
      "Setting levels: control = 0, case = 1\n",
      "\n",
      "Setting direction: controls < cases\n",
      "\n"
     ]
    },
    {
     "data": {
      "text/plain": [
       "\n",
       "Call:\n",
       "roc.default(response = obese, predictor = glm.fit$fitted.values,     percent = TRUE, plot = TRUE, legacy.axes = TRUE, xlab = \"False Positive Percentage\",     ylab = \"True Postive Percentage\")\n",
       "\n",
       "Data: glm.fit$fitted.values in 45 controls (obese 0) < 55 cases (obese 1).\n",
       "Area under the curve: 82.91%"
      ]
     },
     "metadata": {},
     "output_type": "display_data"
    },
    {
     "data": {
      "image/png": "[encoded data removed]",
      "text/plain": [
       "plot without title"
      ]
     },
     "metadata": {
      "image/png": {
       "height": 420,
       "width": 420
      }
     },
     "output_type": "display_data"
    }
   ],
   "source": [
    "## If you want to rename the x and y axes...\n",
    "\n",
    "roc(obese, glm.fit$fitted.values, plot=TRUE, legacy.axes=TRUE, percent=TRUE, xlab=\"False Positive Percentage\", ylab=\"True Postive Percentage\")"
   ]
  },
  {
   "cell_type": "code",
   "execution_count": 10,
   "id": "51686d41",
   "metadata": {},
   "outputs": [
    {
     "name": "stderr",
     "output_type": "stream",
     "text": [
      "Setting levels: control = 0, case = 1\n",
      "\n",
      "Setting direction: controls < cases\n",
      "\n"
     ]
    },
    {
     "data": {
      "text/plain": [
       "\n",
       "Call:\n",
       "roc.default(response = obese, predictor = glm.fit$fitted.values,     percent = TRUE, plot = TRUE, legacy.axes = TRUE, xlab = \"False Positive Percentage\",     ylab = \"True Postive Percentage\", col = \"#377eb8\", lwd = 4)\n",
       "\n",
       "Data: glm.fit$fitted.values in 45 controls (obese 0) < 55 cases (obese 1).\n",
       "Area under the curve: 82.91%"
      ]
     },
     "metadata": {},
     "output_type": "display_data"
    },
    {
     "data": {
      "image/png": "[encoded data removed]",
      "text/plain": [
       "plot without title"
      ]
     },
     "metadata": {
      "image/png": {
       "height": 420,
       "width": 420
      }
     },
     "output_type": "display_data"
    }
   ],
   "source": [
    "## We can also change the color of the ROC line, and make it wider...\n",
    "\n",
    "roc(obese, glm.fit$fitted.values, plot=TRUE, legacy.axes=TRUE, percent=TRUE, xlab=\"False Positive Percentage\", ylab=\"True Postive Percentage\", col=\"#377eb8\", lwd=4)"
   ]
  },
  {
   "cell_type": "code",
   "execution_count": 11,
   "id": "79188715",
   "metadata": {},
   "outputs": [
    {
     "name": "stderr",
     "output_type": "stream",
     "text": [
      "Setting levels: control = 0, case = 1\n",
      "\n",
      "Setting direction: controls < cases\n",
      "\n"
     ]
    }
   ],
   "source": [
    "## If we want to find out the optimal threshold we can store the data used to make the ROC graph in a variable...\n",
    "\n",
    "roc.info <- roc(obese, glm.fit$fitted.values, legacy.axes=TRUE)"
   ]
  },
  {
   "cell_type": "code",
   "execution_count": 12,
   "id": "2fd12082",
   "metadata": {},
   "outputs": [],
   "source": [
    "## and then extract just the information that we want from that variable.\n",
    "\n",
    "roc.df <- data.frame(\n",
    "  tpp=roc.info$sensitivities*100, ## tpp = true positive percentage\n",
    "  fpp=(1 - roc.info$specificities)*100, ## fpp = false positive precentage\n",
    "  thresholds=roc.info$thresholds)"
   ]
  },
  {
   "cell_type": "code",
   "execution_count": 13,
   "id": "f576c7fd",
   "metadata": {},
   "outputs": [
    {
     "data": {
      "text/html": [
       "<table class=\"dataframe\">\n",
       "<caption>A data.frame: 6 × 3</caption>\n",
       "<thead>\n",
       "\t<tr><th></th><th scope=col>tpp</th><th scope=col>fpp</th><th scope=col>thresholds</th></tr>\n",
       "\t<tr><th></th><th scope=col>&lt;dbl&gt;</th><th scope=col>&lt;dbl&gt;</th><th scope=col>&lt;dbl&gt;</th></tr>\n",
       "</thead>\n",
       "<tbody>\n",
       "\t<tr><th scope=row>1</th><td>100</td><td>100.00000</td><td>      -Inf</td></tr>\n",
       "\t<tr><th scope=row>2</th><td>100</td><td> 97.77778</td><td>0.01349011</td></tr>\n",
       "\t<tr><th scope=row>3</th><td>100</td><td> 95.55556</td><td>0.03245008</td></tr>\n",
       "\t<tr><th scope=row>4</th><td>100</td><td> 93.33333</td><td>0.05250145</td></tr>\n",
       "\t<tr><th scope=row>5</th><td>100</td><td> 91.11111</td><td>0.07017225</td></tr>\n",
       "\t<tr><th scope=row>6</th><td>100</td><td> 88.88889</td><td>0.08798755</td></tr>\n",
       "</tbody>\n",
       "</table>\n"
      ],
      "text/latex": [
       "A data.frame: 6 × 3\n",
       "\\begin{tabular}{r|lll}\n",
       "  & tpp & fpp & thresholds\\\\\n",
       "  & <dbl> & <dbl> & <dbl>\\\\\n",
       "\\hline\n",
       "\t1 & 100 & 100.00000 &       -Inf\\\\\n",
       "\t2 & 100 &  97.77778 & 0.01349011\\\\\n",
       "\t3 & 100 &  95.55556 & 0.03245008\\\\\n",
       "\t4 & 100 &  93.33333 & 0.05250145\\\\\n",
       "\t5 & 100 &  91.11111 & 0.07017225\\\\\n",
       "\t6 & 100 &  88.88889 & 0.08798755\\\\\n",
       "\\end{tabular}\n"
      ],
      "text/markdown": [
       "\n",
       "A data.frame: 6 × 3\n",
       "\n",
       "| <!--/--> | tpp &lt;dbl&gt; | fpp &lt;dbl&gt; | thresholds &lt;dbl&gt; |\n",
       "|---|---|---|---|\n",
       "| 1 | 100 | 100.00000 |       -Inf |\n",
       "| 2 | 100 |  97.77778 | 0.01349011 |\n",
       "| 3 | 100 |  95.55556 | 0.03245008 |\n",
       "| 4 | 100 |  93.33333 | 0.05250145 |\n",
       "| 5 | 100 |  91.11111 | 0.07017225 |\n",
       "| 6 | 100 |  88.88889 | 0.08798755 |\n",
       "\n"
      ],
      "text/plain": [
       "  tpp fpp       thresholds\n",
       "1 100 100.00000       -Inf\n",
       "2 100  97.77778 0.01349011\n",
       "3 100  95.55556 0.03245008\n",
       "4 100  93.33333 0.05250145\n",
       "5 100  91.11111 0.07017225\n",
       "6 100  88.88889 0.08798755"
      ]
     },
     "metadata": {},
     "output_type": "display_data"
    }
   ],
   "source": [
    "head(roc.df) ## head() will show us the values for the upper right-hand corner of the ROC graph, when the threshold is so low \n",
    "             ## (negative infinity) that every single sample is called \"obese\".\n",
    "             ## Thus TPP = 100% and FPP = 100%"
   ]
  },
  {
   "cell_type": "code",
   "execution_count": 14,
   "id": "0957e996",
   "metadata": {},
   "outputs": [
    {
     "data": {
      "text/html": [
       "<table class=\"dataframe\">\n",
       "<caption>A data.frame: 6 × 3</caption>\n",
       "<thead>\n",
       "\t<tr><th></th><th scope=col>tpp</th><th scope=col>fpp</th><th scope=col>thresholds</th></tr>\n",
       "\t<tr><th></th><th scope=col>&lt;dbl&gt;</th><th scope=col>&lt;dbl&gt;</th><th scope=col>&lt;dbl&gt;</th></tr>\n",
       "</thead>\n",
       "<tbody>\n",
       "\t<tr><th scope=row>96</th><td>9.090909</td><td>0</td><td>0.9275222</td></tr>\n",
       "\t<tr><th scope=row>97</th><td>7.272727</td><td>0</td><td>0.9371857</td></tr>\n",
       "\t<tr><th scope=row>98</th><td>5.454545</td><td>0</td><td>0.9480358</td></tr>\n",
       "\t<tr><th scope=row>99</th><td>3.636364</td><td>0</td><td>0.9648800</td></tr>\n",
       "\t<tr><th scope=row>100</th><td>1.818182</td><td>0</td><td>0.9735257</td></tr>\n",
       "\t<tr><th scope=row>101</th><td>0.000000</td><td>0</td><td>      Inf</td></tr>\n",
       "</tbody>\n",
       "</table>\n"
      ],
      "text/latex": [
       "A data.frame: 6 × 3\n",
       "\\begin{tabular}{r|lll}\n",
       "  & tpp & fpp & thresholds\\\\\n",
       "  & <dbl> & <dbl> & <dbl>\\\\\n",
       "\\hline\n",
       "\t96 & 9.090909 & 0 & 0.9275222\\\\\n",
       "\t97 & 7.272727 & 0 & 0.9371857\\\\\n",
       "\t98 & 5.454545 & 0 & 0.9480358\\\\\n",
       "\t99 & 3.636364 & 0 & 0.9648800\\\\\n",
       "\t100 & 1.818182 & 0 & 0.9735257\\\\\n",
       "\t101 & 0.000000 & 0 &       Inf\\\\\n",
       "\\end{tabular}\n"
      ],
      "text/markdown": [
       "\n",
       "A data.frame: 6 × 3\n",
       "\n",
       "| <!--/--> | tpp &lt;dbl&gt; | fpp &lt;dbl&gt; | thresholds &lt;dbl&gt; |\n",
       "|---|---|---|---|\n",
       "| 96 | 9.090909 | 0 | 0.9275222 |\n",
       "| 97 | 7.272727 | 0 | 0.9371857 |\n",
       "| 98 | 5.454545 | 0 | 0.9480358 |\n",
       "| 99 | 3.636364 | 0 | 0.9648800 |\n",
       "| 100 | 1.818182 | 0 | 0.9735257 |\n",
       "| 101 | 0.000000 | 0 |       Inf |\n",
       "\n"
      ],
      "text/plain": [
       "    tpp      fpp thresholds\n",
       "96  9.090909 0   0.9275222 \n",
       "97  7.272727 0   0.9371857 \n",
       "98  5.454545 0   0.9480358 \n",
       "99  3.636364 0   0.9648800 \n",
       "100 1.818182 0   0.9735257 \n",
       "101 0.000000 0         Inf "
      ]
     },
     "metadata": {},
     "output_type": "display_data"
    }
   ],
   "source": [
    "tail(roc.df) ## tail() will show us the values for the lower left-hand corner of the ROC graph, when the threshold is so high (infinity) \n",
    "             ## that every single sample is called \"not obese\". \n",
    "             ## Thus, TPP = 0% and FPP = 0%"
   ]
  },
  {
   "cell_type": "code",
   "execution_count": 15,
   "id": "a66b742b",
   "metadata": {},
   "outputs": [
    {
     "data": {
      "text/html": [
       "<table class=\"dataframe\">\n",
       "<caption>A data.frame: 20 × 3</caption>\n",
       "<thead>\n",
       "\t<tr><th></th><th scope=col>tpp</th><th scope=col>fpp</th><th scope=col>thresholds</th></tr>\n",
       "\t<tr><th></th><th scope=col>&lt;dbl&gt;</th><th scope=col>&lt;dbl&gt;</th><th scope=col>&lt;dbl&gt;</th></tr>\n",
       "</thead>\n",
       "<tbody>\n",
       "\t<tr><th scope=row>42</th><td>78.18182</td><td>35.55556</td><td>0.5049310</td></tr>\n",
       "\t<tr><th scope=row>43</th><td>78.18182</td><td>33.33333</td><td>0.5067116</td></tr>\n",
       "\t<tr><th scope=row>44</th><td>78.18182</td><td>31.11111</td><td>0.5166680</td></tr>\n",
       "\t<tr><th scope=row>45</th><td>76.36364</td><td>31.11111</td><td>0.5287933</td></tr>\n",
       "\t<tr><th scope=row>46</th><td>76.36364</td><td>28.88889</td><td>0.5429351</td></tr>\n",
       "\t<tr><th scope=row>47</th><td>76.36364</td><td>26.66667</td><td>0.5589494</td></tr>\n",
       "\t<tr><th scope=row>48</th><td>74.54545</td><td>26.66667</td><td>0.5676342</td></tr>\n",
       "\t<tr><th scope=row>49</th><td>74.54545</td><td>24.44444</td><td>0.5776086</td></tr>\n",
       "\t<tr><th scope=row>50</th><td>74.54545</td><td>22.22222</td><td>0.5946054</td></tr>\n",
       "\t<tr><th scope=row>51</th><td>72.72727</td><td>22.22222</td><td>0.6227449</td></tr>\n",
       "\t<tr><th scope=row>52</th><td>70.90909</td><td>22.22222</td><td>0.6398136</td></tr>\n",
       "\t<tr><th scope=row>53</th><td>69.09091</td><td>22.22222</td><td>0.6441654</td></tr>\n",
       "\t<tr><th scope=row>54</th><td>67.27273</td><td>22.22222</td><td>0.6556705</td></tr>\n",
       "\t<tr><th scope=row>55</th><td>67.27273</td><td>20.00000</td><td>0.6683618</td></tr>\n",
       "\t<tr><th scope=row>56</th><td>67.27273</td><td>17.77778</td><td>0.6767661</td></tr>\n",
       "\t<tr><th scope=row>57</th><td>65.45455</td><td>17.77778</td><td>0.6802060</td></tr>\n",
       "\t<tr><th scope=row>58</th><td>65.45455</td><td>15.55556</td><td>0.6831936</td></tr>\n",
       "\t<tr><th scope=row>59</th><td>65.45455</td><td>13.33333</td><td>0.6917225</td></tr>\n",
       "\t<tr><th scope=row>60</th><td>63.63636</td><td>13.33333</td><td>0.6975300</td></tr>\n",
       "\t<tr><th scope=row>61</th><td>61.81818</td><td>13.33333</td><td>0.6982807</td></tr>\n",
       "</tbody>\n",
       "</table>\n"
      ],
      "text/latex": [
       "A data.frame: 20 × 3\n",
       "\\begin{tabular}{r|lll}\n",
       "  & tpp & fpp & thresholds\\\\\n",
       "  & <dbl> & <dbl> & <dbl>\\\\\n",
       "\\hline\n",
       "\t42 & 78.18182 & 35.55556 & 0.5049310\\\\\n",
       "\t43 & 78.18182 & 33.33333 & 0.5067116\\\\\n",
       "\t44 & 78.18182 & 31.11111 & 0.5166680\\\\\n",
       "\t45 & 76.36364 & 31.11111 & 0.5287933\\\\\n",
       "\t46 & 76.36364 & 28.88889 & 0.5429351\\\\\n",
       "\t47 & 76.36364 & 26.66667 & 0.5589494\\\\\n",
       "\t48 & 74.54545 & 26.66667 & 0.5676342\\\\\n",
       "\t49 & 74.54545 & 24.44444 & 0.5776086\\\\\n",
       "\t50 & 74.54545 & 22.22222 & 0.5946054\\\\\n",
       "\t51 & 72.72727 & 22.22222 & 0.6227449\\\\\n",
       "\t52 & 70.90909 & 22.22222 & 0.6398136\\\\\n",
       "\t53 & 69.09091 & 22.22222 & 0.6441654\\\\\n",
       "\t54 & 67.27273 & 22.22222 & 0.6556705\\\\\n",
       "\t55 & 67.27273 & 20.00000 & 0.6683618\\\\\n",
       "\t56 & 67.27273 & 17.77778 & 0.6767661\\\\\n",
       "\t57 & 65.45455 & 17.77778 & 0.6802060\\\\\n",
       "\t58 & 65.45455 & 15.55556 & 0.6831936\\\\\n",
       "\t59 & 65.45455 & 13.33333 & 0.6917225\\\\\n",
       "\t60 & 63.63636 & 13.33333 & 0.6975300\\\\\n",
       "\t61 & 61.81818 & 13.33333 & 0.6982807\\\\\n",
       "\\end{tabular}\n"
      ],
      "text/markdown": [
       "\n",
       "A data.frame: 20 × 3\n",
       "\n",
       "| <!--/--> | tpp &lt;dbl&gt; | fpp &lt;dbl&gt; | thresholds &lt;dbl&gt; |\n",
       "|---|---|---|---|\n",
       "| 42 | 78.18182 | 35.55556 | 0.5049310 |\n",
       "| 43 | 78.18182 | 33.33333 | 0.5067116 |\n",
       "| 44 | 78.18182 | 31.11111 | 0.5166680 |\n",
       "| 45 | 76.36364 | 31.11111 | 0.5287933 |\n",
       "| 46 | 76.36364 | 28.88889 | 0.5429351 |\n",
       "| 47 | 76.36364 | 26.66667 | 0.5589494 |\n",
       "| 48 | 74.54545 | 26.66667 | 0.5676342 |\n",
       "| 49 | 74.54545 | 24.44444 | 0.5776086 |\n",
       "| 50 | 74.54545 | 22.22222 | 0.5946054 |\n",
       "| 51 | 72.72727 | 22.22222 | 0.6227449 |\n",
       "| 52 | 70.90909 | 22.22222 | 0.6398136 |\n",
       "| 53 | 69.09091 | 22.22222 | 0.6441654 |\n",
       "| 54 | 67.27273 | 22.22222 | 0.6556705 |\n",
       "| 55 | 67.27273 | 20.00000 | 0.6683618 |\n",
       "| 56 | 67.27273 | 17.77778 | 0.6767661 |\n",
       "| 57 | 65.45455 | 17.77778 | 0.6802060 |\n",
       "| 58 | 65.45455 | 15.55556 | 0.6831936 |\n",
       "| 59 | 65.45455 | 13.33333 | 0.6917225 |\n",
       "| 60 | 63.63636 | 13.33333 | 0.6975300 |\n",
       "| 61 | 61.81818 | 13.33333 | 0.6982807 |\n",
       "\n"
      ],
      "text/plain": [
       "   tpp      fpp      thresholds\n",
       "42 78.18182 35.55556 0.5049310 \n",
       "43 78.18182 33.33333 0.5067116 \n",
       "44 78.18182 31.11111 0.5166680 \n",
       "45 76.36364 31.11111 0.5287933 \n",
       "46 76.36364 28.88889 0.5429351 \n",
       "47 76.36364 26.66667 0.5589494 \n",
       "48 74.54545 26.66667 0.5676342 \n",
       "49 74.54545 24.44444 0.5776086 \n",
       "50 74.54545 22.22222 0.5946054 \n",
       "51 72.72727 22.22222 0.6227449 \n",
       "52 70.90909 22.22222 0.6398136 \n",
       "53 69.09091 22.22222 0.6441654 \n",
       "54 67.27273 22.22222 0.6556705 \n",
       "55 67.27273 20.00000 0.6683618 \n",
       "56 67.27273 17.77778 0.6767661 \n",
       "57 65.45455 17.77778 0.6802060 \n",
       "58 65.45455 15.55556 0.6831936 \n",
       "59 65.45455 13.33333 0.6917225 \n",
       "60 63.63636 13.33333 0.6975300 \n",
       "61 61.81818 13.33333 0.6982807 "
      ]
     },
     "metadata": {},
     "output_type": "display_data"
    }
   ],
   "source": [
    "## now let's look at the thresholds between TPP 60% and 80%...\n",
    "\n",
    "roc.df[roc.df$tpp > 60 & roc.df$tpp < 80,]"
   ]
  },
  {
   "cell_type": "code",
   "execution_count": 16,
   "id": "92d913b9",
   "metadata": {},
   "outputs": [
    {
     "name": "stderr",
     "output_type": "stream",
     "text": [
      "Setting levels: control = 0, case = 1\n",
      "\n",
      "Setting direction: controls < cases\n",
      "\n"
     ]
    },
    {
     "data": {
      "text/plain": [
       "\n",
       "Call:\n",
       "roc.default(response = obese, predictor = glm.fit$fitted.values,     percent = TRUE, plot = TRUE, legacy.axes = TRUE, xlab = \"False Positive Percentage\",     ylab = \"True Postive Percentage\", col = \"#377eb8\", lwd = 4,     print.auc = TRUE)\n",
       "\n",
       "Data: glm.fit$fitted.values in 45 controls (obese 0) < 55 cases (obese 1).\n",
       "Area under the curve: 82.91%"
      ]
     },
     "metadata": {},
     "output_type": "display_data"
    },
    {
     "data": {
      "image/png": "[encoded data removed]",
      "text/plain": [
       "plot without title"
      ]
     },
     "metadata": {
      "image/png": {
       "height": 420,
       "width": 420
      }
     },
     "output_type": "display_data"
    }
   ],
   "source": [
    "## We can calculate the area under the curve...\n",
    "\n",
    "roc(obese, glm.fit$fitted.values, plot=TRUE, legacy.axes=TRUE, percent=TRUE, xlab=\"False Positive Percentage\", ylab=\"True Postive Percentage\", col=\"#377eb8\", lwd=4, print.auc=TRUE)"
   ]
  },
  {
   "cell_type": "code",
   "execution_count": 17,
   "id": "1532e93e",
   "metadata": {},
   "outputs": [
    {
     "name": "stderr",
     "output_type": "stream",
     "text": [
      "Setting levels: control = 0, case = 1\n",
      "\n",
      "Setting direction: controls < cases\n",
      "\n"
     ]
    },
    {
     "data": {
      "text/plain": [
       "\n",
       "Call:\n",
       "roc.default(response = obese, predictor = glm.fit$fitted.values,     percent = TRUE, plot = TRUE, legacy.axes = TRUE, xlab = \"False Positive Percentage\",     ylab = \"True Postive Percentage\", col = \"#377eb8\", lwd = 4,     print.auc = TRUE, print.auc.x = 45, partial.auc = c(100,         90), auc.polygon = TRUE, auc.polygon.col = \"#377eb822\")\n",
       "\n",
       "Data: glm.fit$fitted.values in 45 controls (obese 0) < 55 cases (obese 1).\n",
       "Partial area under the curve (specificity 100%-90%): 4.727%"
      ]
     },
     "metadata": {},
     "output_type": "display_data"
    },
    {
     "data": {
      "image/png": "[encoded data removed]",
      "text/plain": [
       "plot without title"
      ]
     },
     "metadata": {
      "image/png": {
       "height": 420,
       "width": 420
      }
     },
     "output_type": "display_data"
    }
   ],
   "source": [
    "## ...and the partial area under the curve.\n",
    "\n",
    "roc(obese, glm.fit$fitted.values, plot=TRUE, legacy.axes=TRUE, percent=TRUE, xlab=\"False Positive Percentage\", ylab=\"True Postive Percentage\", col=\"#377eb8\", lwd=4, print.auc=TRUE, print.auc.x=45, partial.auc=c(100, 90), auc.polygon = TRUE, auc.polygon.col = \"#377eb822\")"
   ]
  },
  {
   "cell_type": "code",
   "execution_count": 18,
   "id": "a607b380",
   "metadata": {},
   "outputs": [],
   "source": [
    "## Now let's fit the data with a random forest...\n",
    "\n",
    "rf.model <- randomForest(factor(obese) ~ weight)"
   ]
  },
  {
   "cell_type": "code",
   "execution_count": 19,
   "id": "38f208f6",
   "metadata": {},
   "outputs": [
    {
     "name": "stderr",
     "output_type": "stream",
     "text": [
      "Setting levels: control = 0, case = 1\n",
      "\n",
      "Setting direction: controls > cases\n",
      "\n"
     ]
    },
    {
     "data": {
      "text/plain": [
       "\n",
       "Call:\n",
       "roc.default(response = obese, predictor = rf.model$votes[, 1],     percent = TRUE, plot = TRUE, legacy.axes = TRUE, xlab = \"False Positive Percentage\",     ylab = \"True Postive Percentage\", col = \"#4daf4a\", lwd = 4,     print.auc = TRUE)\n",
       "\n",
       "Data: rf.model$votes[, 1] in 45 controls (obese 0) > 55 cases (obese 1).\n",
       "Area under the curve: 79.29%"
      ]
     },
     "metadata": {},
     "output_type": "display_data"
    },
    {
     "data": {
      "image/png": "[encoded data removed]",
      "text/plain": [
       "plot without title"
      ]
     },
     "metadata": {
      "image/png": {
       "height": 420,
       "width": 420
      }
     },
     "output_type": "display_data"
    }
   ],
   "source": [
    "## ROC for random forest\n",
    "\n",
    "roc(obese, rf.model$votes[,1], plot=TRUE, legacy.axes=TRUE, percent=TRUE, xlab=\"False Positive Percentage\", ylab=\"True Postive Percentage\", col=\"#4daf4a\", lwd=4, print.auc=TRUE)"
   ]
  },
  {
   "cell_type": "code",
   "execution_count": 20,
   "id": "17ae60ac",
   "metadata": {},
   "outputs": [
    {
     "name": "stderr",
     "output_type": "stream",
     "text": [
      "Setting levels: control = 0, case = 1\n",
      "\n",
      "Setting direction: controls < cases\n",
      "\n"
     ]
    },
    {
     "data": {
      "text/plain": [
       "\n",
       "Call:\n",
       "roc.default(response = obese, predictor = glm.fit$fitted.values,     percent = TRUE, plot = TRUE, legacy.axes = TRUE, xlab = \"False Positive Percentage\",     ylab = \"True Postive Percentage\", col = \"#377eb8\", lwd = 4,     print.auc = TRUE)\n",
       "\n",
       "Data: glm.fit$fitted.values in 45 controls (obese 0) < 55 cases (obese 1).\n",
       "Area under the curve: 82.91%"
      ]
     },
     "metadata": {},
     "output_type": "display_data"
    },
    {
     "name": "stderr",
     "output_type": "stream",
     "text": [
      "Setting levels: control = 0, case = 1\n",
      "\n",
      "Setting direction: controls > cases\n",
      "\n"
     ]
    },
    {
     "data": {
      "image/png": "[encoded data removed]",
      "text/plain": [
       "plot without title"
      ]
     },
     "metadata": {
      "image/png": {
       "height": 420,
       "width": 420
      }
     },
     "output_type": "display_data"
    }
   ],
   "source": [
    "## Now layer logistic regression and random forest ROC graphs..\n",
    "\n",
    "roc(obese, glm.fit$fitted.values, plot=TRUE, legacy.axes=TRUE, percent=TRUE, xlab=\"False Positive Percentage\", ylab=\"True Postive Percentage\", col=\"#377eb8\", lwd=4, print.auc=TRUE)\n",
    "\n",
    "plot.roc(obese, rf.model$votes[,1], percent=TRUE, col=\"#4daf4a\", lwd=4, print.auc=TRUE, add=TRUE, print.auc.y=40)\n",
    "\n",
    "legend(\"bottomright\", legend=c(\"Logisitic Regression\", \"Random Forest\"), col=c(\"#377eb8\", \"#4daf4a\"), lwd=4)"
   ]
  },
  {
   "cell_type": "code",
   "execution_count": 21,
   "id": "cf1d6a92",
   "metadata": {},
   "outputs": [],
   "source": [
    "## If you have changed the par() earlier,  reset the par() variables.\n",
    "## par(pty = \"m\")"
   ]
  }
 ],
 "metadata": {
  "kernelspec": {
   "display_name": "R",
   "language": "R",
   "name": "ir"
  },
  "language_info": {
   "codemirror_mode": "r",
   "file_extension": ".r",
   "mimetype": "text/x-r-source",
   "name": "R",
   "pygments_lexer": "r",
   "version": "4.2.0"
  }
 },
 "nbformat": 4,
 "nbformat_minor": 5
}
